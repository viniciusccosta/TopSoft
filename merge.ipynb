{
 "cells": [
  {
   "cell_type": "code",
   "execution_count": null,
   "id": "7ae532bf",
   "metadata": {},
   "outputs": [],
   "source": [
    "# Importação:\n",
    "\n",
    "import pandas as pd"
   ]
  },
  {
   "cell_type": "code",
   "execution_count": null,
   "id": "e3089fd7",
   "metadata": {},
   "outputs": [],
   "source": [
    "# Lendo arquivo de alunos (exportado pelo TopSoft) com os dados já recebidos da API da ActivitySoft:\n",
    "\n",
    "df_activity = pd.read_json(\"alunos.json\")\n",
    "\n",
    "# Formatando os nomes para garantir que não excedam 40 caracteres e removendo espaços extras:\n",
    "df_activity[\"nome\"] = df_activity[\"nome\"].apply(lambda x: x[0:40].strip())\n",
    "\n",
    "# Ordenando o DataFrame por nome:\n",
    "df_activity.sort_values(by=\"nome\", inplace=True)\n",
    "display(df_activity[[\"nome\", \"matricula\"]])"
   ]
  },
  {
   "cell_type": "code",
   "execution_count": null,
   "id": "85075bb5",
   "metadata": {},
   "outputs": [],
   "source": [
    "# UMA POSSÍVEL SOLUÇÃO PARA LER OS DADOS DO ALUNO DIRETAMENTE DO BANCO DE DADOS\n",
    "\n",
    "# import sqlite3\n",
    "\n",
    "# conn = sqlite3.connect('meu_banco.db')\n",
    "# df_activity = pd.read_sql_table('minha_tabela', conn)"
   ]
  },
  {
   "cell_type": "code",
   "execution_count": null,
   "id": "9465414b",
   "metadata": {},
   "outputs": [],
   "source": [
    "# Lendo arquivo de carteirinhas (algum já pre-existente ou exportado pelo TopSoft):\n",
    "\n",
    "with open(r\"gi5_cartoes.txt\", \"r\") as file:\n",
    "    dados = file.read()\n",
    "\n",
    "linhas = dados.split(\"\\n\")\n",
    "carteirinhas = [{\"cartao\": i[0:16], \"nome\": i[16 : 16 + 40]} for i in linhas]\n",
    "\n",
    "# Criando DataFrame de carteirinhas:\n",
    "df_cartoes = pd.DataFrame(carteirinhas)\n",
    "\n",
    "# Formatando os nomes para garantir que não excedam 40 caracteres e removendo espaços extras:\n",
    "df_cartoes[\"nome\"] = df_cartoes[\"nome\"].apply(lambda x: x[0:40].strip())\n",
    "\n",
    "# Drop empty names\n",
    "df_cartoes = df_cartoes[df_cartoes[\"nome\"] != \"\"]\n",
    "\n",
    "# Ordenando o DataFrame por nome:\n",
    "df_cartoes.sort_values(by=\"nome\", inplace=True)\n",
    "display(df_cartoes)"
   ]
  },
  {
   "cell_type": "code",
   "execution_count": null,
   "id": "69656d3d",
   "metadata": {},
   "outputs": [],
   "source": [
    "# Validando se não existem nomes duplicados:\n",
    "if df_cartoes[\"nome\"].duplicated().any():\n",
    "    print(\"Existem nomes duplicados no DataFrame de carteirinhas.\")\n",
    "\n",
    "# Validando se não existem nomes duplicados:\n",
    "if df_activity[\"nome\"].duplicated().any():\n",
    "    print(\"Existem nomes duplicados no DataFrame de alunos.\")"
   ]
  },
  {
   "cell_type": "code",
   "execution_count": null,
   "id": "1e45383c",
   "metadata": {},
   "outputs": [],
   "source": [
    "# Merge dos DataFrames para encontrar os alunos que não possuem carteirinha:\n",
    "\n",
    "df_merged = pd.merge(df_activity, df_cartoes, left_on=\"nome\", right_on=\"nome\")\n",
    "display(df_merged[[\"nome\", \"cartao\"]])"
   ]
  },
  {
   "cell_type": "code",
   "execution_count": null,
   "id": "30bcd8b8",
   "metadata": {},
   "outputs": [],
   "source": [
    "# Exportando o DataFrame para JSON:\n",
    "df_merged.to_json(\"alunos_e_carteirinha.json\", orient=\"records\", force_ascii=False)"
   ]
  },
  {
   "cell_type": "code",
   "execution_count": null,
   "id": "6467c9a4",
   "metadata": {},
   "outputs": [],
   "source": [
    "# Vamos atualizar o Banco de Dados local com os dados do DataFrame de forma direta:\n",
    "\n",
    "from topsoft.repository import (\n",
    "    bind_cartao_acesso_to_aluno,\n",
    "    get_or_create_cartao_acesso,\n",
    "    get_aluno_by_matricula,\n",
    ")\n",
    "\n",
    "for index, row in df_merged.iterrows():\n",
    "    cartao_acesso = get_or_create_cartao_acesso(row[\"cartao\"])\n",
    "    aluno = get_aluno_by_matricula(row[\"matricula\"])\n",
    "\n",
    "    if aluno:\n",
    "        # Se o aluno já existe, apenas vincula o cartão de acesso\n",
    "        bind_cartao_acesso_to_aluno(\n",
    "            cartao_acesso_id=cartao_acesso.id,\n",
    "            aluno_id=aluno.id,\n",
    "        )\n",
    "        print(f\"Cartão {cartao_acesso.numeracao} vinculado ao aluno {aluno.nome}.\")\n",
    "    else:\n",
    "        print(f\"Aluno com matrícula {row['matricula']} não encontrado.\")"
   ]
  }
 ],
 "metadata": {
  "language_info": {
   "name": "python"
  }
 },
 "nbformat": 4,
 "nbformat_minor": 5
}
